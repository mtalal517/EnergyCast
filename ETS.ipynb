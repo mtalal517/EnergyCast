{
 "cells": [
  {
   "cell_type": "markdown",
   "metadata": {},
   "source": [
    "# ***ETS***"
   ]
  },
  {
   "cell_type": "markdown",
   "metadata": {},
   "source": [
    "This notebook demonstrates the process of designing, training, and evaluating an SARIMA using the hourly energy load data.\n",
    "We aim to forecast future energy load based on historical data."
   ]
  },
  {
   "cell_type": "markdown",
   "metadata": {},
   "source": [
    "### Import Libraries"
   ]
  },
  {
   "cell_type": "code",
   "execution_count": 1,
   "metadata": {},
   "outputs": [],
   "source": [
    "import pandas as pd\n",
    "import numpy as np\n",
    "from statsmodels.tsa.holtwinters import ExponentialSmoothing\n",
    "from statsmodels.tsa.stattools import acf\n",
    "from statsmodels.tsa.stattools import adfuller"
   ]
  },
  {
   "cell_type": "code",
   "execution_count": 2,
   "metadata": {},
   "outputs": [
    {
     "data": {
      "text/html": [
       "<div>\n",
       "<style scoped>\n",
       "    .dataframe tbody tr th:only-of-type {\n",
       "        vertical-align: middle;\n",
       "    }\n",
       "\n",
       "    .dataframe tbody tr th {\n",
       "        vertical-align: top;\n",
       "    }\n",
       "\n",
       "    .dataframe thead th {\n",
       "        text-align: right;\n",
       "    }\n",
       "</style>\n",
       "<table border=\"1\" class=\"dataframe\">\n",
       "  <thead>\n",
       "    <tr style=\"text-align: right;\">\n",
       "      <th></th>\n",
       "      <th>Datetime</th>\n",
       "      <th>PJM_Load_MW</th>\n",
       "    </tr>\n",
       "  </thead>\n",
       "  <tbody>\n",
       "    <tr>\n",
       "      <th>0</th>\n",
       "      <td>1998-12-31 01:00:00</td>\n",
       "      <td>29309.0</td>\n",
       "    </tr>\n",
       "    <tr>\n",
       "      <th>1</th>\n",
       "      <td>1998-12-31 02:00:00</td>\n",
       "      <td>28236.0</td>\n",
       "    </tr>\n",
       "    <tr>\n",
       "      <th>2</th>\n",
       "      <td>1998-12-31 03:00:00</td>\n",
       "      <td>27692.0</td>\n",
       "    </tr>\n",
       "    <tr>\n",
       "      <th>3</th>\n",
       "      <td>1998-12-31 04:00:00</td>\n",
       "      <td>27596.0</td>\n",
       "    </tr>\n",
       "    <tr>\n",
       "      <th>4</th>\n",
       "      <td>1998-12-31 05:00:00</td>\n",
       "      <td>27888.0</td>\n",
       "    </tr>\n",
       "  </tbody>\n",
       "</table>\n",
       "</div>"
      ],
      "text/plain": [
       "              Datetime  PJM_Load_MW\n",
       "0  1998-12-31 01:00:00      29309.0\n",
       "1  1998-12-31 02:00:00      28236.0\n",
       "2  1998-12-31 03:00:00      27692.0\n",
       "3  1998-12-31 04:00:00      27596.0\n",
       "4  1998-12-31 05:00:00      27888.0"
      ]
     },
     "execution_count": 2,
     "metadata": {},
     "output_type": "execute_result"
    }
   ],
   "source": [
    "# Load the dataset\n",
    "file_path = 'dataset.csv'\n",
    "data = pd.read_csv(file_path)\n",
    "\n",
    "# Display the first few rows of the dataset and summary statistics\n",
    "data.head()"
   ]
  },
  {
   "cell_type": "code",
   "execution_count": 3,
   "metadata": {},
   "outputs": [
    {
     "data": {
      "text/html": [
       "<div>\n",
       "<style scoped>\n",
       "    .dataframe tbody tr th:only-of-type {\n",
       "        vertical-align: middle;\n",
       "    }\n",
       "\n",
       "    .dataframe tbody tr th {\n",
       "        vertical-align: top;\n",
       "    }\n",
       "\n",
       "    .dataframe thead th {\n",
       "        text-align: right;\n",
       "    }\n",
       "</style>\n",
       "<table border=\"1\" class=\"dataframe\">\n",
       "  <thead>\n",
       "    <tr style=\"text-align: right;\">\n",
       "      <th></th>\n",
       "      <th>Datetime</th>\n",
       "      <th>PJM_Load_MW</th>\n",
       "    </tr>\n",
       "  </thead>\n",
       "  <tbody>\n",
       "    <tr>\n",
       "      <th>count</th>\n",
       "      <td>32896</td>\n",
       "      <td>32896.000000</td>\n",
       "    </tr>\n",
       "    <tr>\n",
       "      <th>unique</th>\n",
       "      <td>32896</td>\n",
       "      <td>NaN</td>\n",
       "    </tr>\n",
       "    <tr>\n",
       "      <th>top</th>\n",
       "      <td>1998-12-31 01:00:00</td>\n",
       "      <td>NaN</td>\n",
       "    </tr>\n",
       "    <tr>\n",
       "      <th>freq</th>\n",
       "      <td>1</td>\n",
       "      <td>NaN</td>\n",
       "    </tr>\n",
       "    <tr>\n",
       "      <th>mean</th>\n",
       "      <td>NaN</td>\n",
       "      <td>29766.427408</td>\n",
       "    </tr>\n",
       "    <tr>\n",
       "      <th>std</th>\n",
       "      <td>NaN</td>\n",
       "      <td>5849.769954</td>\n",
       "    </tr>\n",
       "    <tr>\n",
       "      <th>min</th>\n",
       "      <td>NaN</td>\n",
       "      <td>17461.000000</td>\n",
       "    </tr>\n",
       "    <tr>\n",
       "      <th>25%</th>\n",
       "      <td>NaN</td>\n",
       "      <td>25473.000000</td>\n",
       "    </tr>\n",
       "    <tr>\n",
       "      <th>50%</th>\n",
       "      <td>NaN</td>\n",
       "      <td>29655.000000</td>\n",
       "    </tr>\n",
       "    <tr>\n",
       "      <th>75%</th>\n",
       "      <td>NaN</td>\n",
       "      <td>33073.250000</td>\n",
       "    </tr>\n",
       "    <tr>\n",
       "      <th>max</th>\n",
       "      <td>NaN</td>\n",
       "      <td>54030.000000</td>\n",
       "    </tr>\n",
       "  </tbody>\n",
       "</table>\n",
       "</div>"
      ],
      "text/plain": [
       "                   Datetime   PJM_Load_MW\n",
       "count                 32896  32896.000000\n",
       "unique                32896           NaN\n",
       "top     1998-12-31 01:00:00           NaN\n",
       "freq                      1           NaN\n",
       "mean                    NaN  29766.427408\n",
       "std                     NaN   5849.769954\n",
       "min                     NaN  17461.000000\n",
       "25%                     NaN  25473.000000\n",
       "50%                     NaN  29655.000000\n",
       "75%                     NaN  33073.250000\n",
       "max                     NaN  54030.000000"
      ]
     },
     "execution_count": 3,
     "metadata": {},
     "output_type": "execute_result"
    }
   ],
   "source": [
    "data.describe(include='all')"
   ]
  },
  {
   "cell_type": "code",
   "execution_count": 4,
   "metadata": {},
   "outputs": [
    {
     "name": "stdout",
     "output_type": "stream",
     "text": [
      "<class 'pandas.core.frame.DataFrame'>\n",
      "RangeIndex: 32896 entries, 0 to 32895\n",
      "Data columns (total 2 columns):\n",
      " #   Column       Non-Null Count  Dtype  \n",
      "---  ------       --------------  -----  \n",
      " 0   Datetime     32896 non-null  object \n",
      " 1   PJM_Load_MW  32896 non-null  float64\n",
      "dtypes: float64(1), object(1)\n",
      "memory usage: 514.1+ KB\n"
     ]
    }
   ],
   "source": [
    "data.info()"
   ]
  },
  {
   "cell_type": "markdown",
   "metadata": {},
   "source": [
    "### PreProcessing"
   ]
  },
  {
   "cell_type": "code",
   "execution_count": 5,
   "metadata": {},
   "outputs": [],
   "source": [
    "# Drop rows with NaN values\n",
    "data = data.dropna()\n",
    "\n",
    "# Replace infinite values with zeros\n",
    "data.replace([np.inf, -np.inf], np.nan, inplace=True)\n",
    "data.fillna(0, inplace=True)  # Optional: fill remaining NaNs if any"
   ]
  },
  {
   "cell_type": "code",
   "execution_count": null,
   "metadata": {},
   "outputs": [],
   "source": [
    "# Convert 'Datetime' to datetime type\n",
    "data['Datetime'] = pd.to_datetime(data['Datetime'])"
   ]
  },
  {
   "cell_type": "markdown",
   "metadata": {},
   "source": [
    "### Stationarity Test"
   ]
  },
  {
   "cell_type": "code",
   "execution_count": 6,
   "metadata": {},
   "outputs": [
    {
     "name": "stdout",
     "output_type": "stream",
     "text": [
      "ADF Statistic: -14.496714853893716\n",
      "p-value: 6.024269615144993e-27\n",
      "The series is stationary.\n"
     ]
    }
   ],
   "source": [
    "# Function to perform the Augmented Dickey-Fuller test for stationarity\n",
    "def check_stationarity(series):\n",
    "    result = adfuller(series, autolag='AIC')\n",
    "    print(f'ADF Statistic: {result[0]}')\n",
    "    print(f'p-value: {result[1]}')\n",
    "    if result[1] < 0.05:\n",
    "        print(\"The series is stationary.\")\n",
    "    else:\n",
    "        print(\"The series is not stationary and needs differencing.\")\n",
    "\n",
    "# Perform the test\n",
    "check_stationarity(data['PJM_Load_MW'])\n"
   ]
  },
  {
   "cell_type": "code",
   "execution_count": 7,
   "metadata": {},
   "outputs": [
    {
     "data": {
      "image/png": "[encoded data removed]",
      "text/plain": [
       "<Figure size 1200x600 with 1 Axes>"
      ]
     },
     "metadata": {},
     "output_type": "display_data"
    }
   ],
   "source": [
    "import matplotlib.pyplot as plt\n",
    "\n",
    "# Plotting the time series data\n",
    "plt.figure(figsize=(12, 6))\n",
    "plt.plot(data['Datetime'], data['PJM_Load_MW'], label='PJM Load MW', color='blue')\n",
    "plt.title('PJM Load Over Time')\n",
    "plt.xlabel('Datetime')\n",
    "plt.ylabel('Load (MW)')\n",
    "plt.legend()\n",
    "plt.grid(True)\n",
    "plt.show()\n"
   ]
  },
  {
   "cell_type": "markdown",
   "metadata": {},
   "source": [
    "### Differncing"
   ]
  },
  {
   "cell_type": "code",
   "execution_count": null,
   "metadata": {},
   "outputs": [],
   "source": [
    "# Applying a logarithmic transformation\n",
    "data['Log_PJM_Load_MW'] = np.log(data['PJM_Load_MW'])\n",
    "\n",
    "# Differencing the log-transformed data\n",
    "data['Diff_Log_PJM_Load_MW'] = data['Log_PJM_Load_MW'].diff().dropna()\n",
    "\n",
    "# Check stationarity of the differenced log data\n",
    "check_stationarity(data['Diff_Log_PJM_Load_MW'].dropna())\n"
   ]
  },
  {
   "cell_type": "code",
   "execution_count": null,
   "metadata": {},
   "outputs": [],
   "source": [
    "import matplotlib.pyplot as plt\n",
    "\n",
    "# Plotting the time series data\n",
    "plt.figure(figsize=(12, 6))\n",
    "plt.plot(data['Datetime'], data['Diff_Log_PJM_Load_MW'], label='PJM Load MW', color='blue')\n",
    "plt.title('PJM Load Over Time')\n",
    "plt.xlabel('Datetime')\n",
    "plt.ylabel('Load (MW)')\n",
    "plt.legend()\n",
    "plt.grid(True)\n",
    "plt.show()"
   ]
  },
  {
   "cell_type": "markdown",
   "metadata": {},
   "source": [
    "### Model Training"
   ]
  },
  {
   "cell_type": "code",
   "execution_count": 8,
   "metadata": {},
   "outputs": [
    {
     "name": "stderr",
     "output_type": "stream",
     "text": [
      "c:\\Python312\\Lib\\site-packages\\statsmodels\\tsa\\holtwinters\\model.py:918: ConvergenceWarning: Optimization failed to converge. Check mle_retvals.\n",
      "  warnings.warn(\n"
     ]
    },
    {
     "data": {
      "text/html": [
       "<table class=\"simpletable\">\n",
       "<caption>ExponentialSmoothing Model Results</caption>\n",
       "<tr>\n",
       "  <th>Dep. Variable:</th>         <td>PJM_Load_MW</td>     <th>  No. Observations:  </th>       <td>32896</td>     \n",
       "</tr>\n",
       "<tr>\n",
       "  <th>Model:</th>            <td>ExponentialSmoothing</td> <th>  SSE                </th>  <td>28919865626.504</td>\n",
       "</tr>\n",
       "<tr>\n",
       "  <th>Optimized:</th>                <td>True</td>         <th>  AIC                </th>    <td>450293.296</td>   \n",
       "</tr>\n",
       "<tr>\n",
       "  <th>Trend:</th>                  <td>Additive</td>       <th>  BIC                </th>    <td>450528.527</td>   \n",
       "</tr>\n",
       "<tr>\n",
       "  <th>Seasonal:</th>               <td>Additive</td>       <th>  AICC               </th>    <td>450293.353</td>   \n",
       "</tr>\n",
       "<tr>\n",
       "  <th>Seasonal Periods:</th>          <td>24</td>          <th>  Date:              </th> <td>Sat, 11 May 2024</td>\n",
       "</tr>\n",
       "<tr>\n",
       "  <th>Box-Cox:</th>                  <td>False</td>        <th>  Time:              </th>     <td>21:14:05</td>    \n",
       "</tr>\n",
       "<tr>\n",
       "  <th>Box-Cox Coeff.:</th>           <td>None</td>         <th>                     </th>         <td> </td>       \n",
       "</tr>\n",
       "</table>\n",
       "<table class=\"simpletable\">\n",
       "<tr>\n",
       "           <td></td>                  <th>coeff</th>                <th>code</th>               <th>optimized</th>     \n",
       "</tr>\n",
       "<tr>\n",
       "  <th>smoothing_level</th>    <td>           0.7828759</td> <td>               alpha</td> <td>                True</td>\n",
       "</tr>\n",
       "<tr>\n",
       "  <th>smoothing_trend</th>    <td>           0.0001676</td> <td>                beta</td> <td>                True</td>\n",
       "</tr>\n",
       "<tr>\n",
       "  <th>smoothing_seasonal</th> <td>           0.2171241</td> <td>               gamma</td> <td>                True</td>\n",
       "</tr>\n",
       "<tr>\n",
       "  <th>initial_level</th>      <td>           32569.861</td> <td>                 l.0</td> <td>                True</td>\n",
       "</tr>\n",
       "<tr>\n",
       "  <th>initial_trend</th>      <td>           57.759672</td> <td>                 b.0</td> <td>                True</td>\n",
       "</tr>\n",
       "<tr>\n",
       "  <th>initial_seasons.0</th>  <td>          -5261.8176</td> <td>                 s.0</td> <td>                True</td>\n",
       "</tr>\n",
       "<tr>\n",
       "  <th>initial_seasons.1</th>  <td>          -6254.7145</td> <td>                 s.1</td> <td>                True</td>\n",
       "</tr>\n",
       "<tr>\n",
       "  <th>initial_seasons.2</th>  <td>          -6725.3045</td> <td>                 s.2</td> <td>                True</td>\n",
       "</tr>\n",
       "<tr>\n",
       "  <th>initial_seasons.3</th>  <td>          -6713.4611</td> <td>                 s.3</td> <td>                True</td>\n",
       "</tr>\n",
       "<tr>\n",
       "  <th>initial_seasons.4</th>  <td>          -6282.9602</td> <td>                 s.4</td> <td>                True</td>\n",
       "</tr>\n",
       "<tr>\n",
       "  <th>initial_seasons.5</th>  <td>          -4911.0178</td> <td>                 s.5</td> <td>                True</td>\n",
       "</tr>\n",
       "<tr>\n",
       "  <th>initial_seasons.6</th>  <td>          -2639.9006</td> <td>                 s.6</td> <td>                True</td>\n",
       "</tr>\n",
       "<tr>\n",
       "  <th>initial_seasons.7</th>  <td>          -468.36502</td> <td>                 s.7</td> <td>                True</td>\n",
       "</tr>\n",
       "<tr>\n",
       "  <th>initial_seasons.8</th>  <td>           983.78906</td> <td>                 s.8</td> <td>                True</td>\n",
       "</tr>\n",
       "<tr>\n",
       "  <th>initial_seasons.9</th>  <td>           1996.1134</td> <td>                 s.9</td> <td>                True</td>\n",
       "</tr>\n",
       "<tr>\n",
       "  <th>initial_seasons.10</th> <td>           2372.2580</td> <td>                s.10</td> <td>                True</td>\n",
       "</tr>\n",
       "<tr>\n",
       "  <th>initial_seasons.11</th> <td>           2211.4868</td> <td>                s.11</td> <td>                True</td>\n",
       "</tr>\n",
       "<tr>\n",
       "  <th>initial_seasons.12</th> <td>           2439.9785</td> <td>                s.12</td> <td>                True</td>\n",
       "</tr>\n",
       "<tr>\n",
       "  <th>initial_seasons.13</th> <td>           2040.8338</td> <td>                s.13</td> <td>                True</td>\n",
       "</tr>\n",
       "<tr>\n",
       "  <th>initial_seasons.14</th> <td>           1646.4130</td> <td>                s.14</td> <td>                True</td>\n",
       "</tr>\n",
       "<tr>\n",
       "  <th>initial_seasons.15</th> <td>           1523.9739</td> <td>                s.15</td> <td>                True</td>\n",
       "</tr>\n",
       "<tr>\n",
       "  <th>initial_seasons.16</th> <td>           2761.3189</td> <td>                s.16</td> <td>                True</td>\n",
       "</tr>\n",
       "<tr>\n",
       "  <th>initial_seasons.17</th> <td>           5382.6860</td> <td>                s.17</td> <td>                True</td>\n",
       "</tr>\n",
       "<tr>\n",
       "  <th>initial_seasons.18</th> <td>           5520.8083</td> <td>                s.18</td> <td>                True</td>\n",
       "</tr>\n",
       "<tr>\n",
       "  <th>initial_seasons.19</th> <td>           4681.2460</td> <td>                s.19</td> <td>                True</td>\n",
       "</tr>\n",
       "<tr>\n",
       "  <th>initial_seasons.20</th> <td>           3899.0901</td> <td>                s.20</td> <td>                True</td>\n",
       "</tr>\n",
       "<tr>\n",
       "  <th>initial_seasons.21</th> <td>           2636.2767</td> <td>                s.21</td> <td>                True</td>\n",
       "</tr>\n",
       "<tr>\n",
       "  <th>initial_seasons.22</th> <td>           675.52449</td> <td>                s.22</td> <td>                True</td>\n",
       "</tr>\n",
       "<tr>\n",
       "  <th>initial_seasons.23</th> <td>          -1514.2995</td> <td>                s.23</td> <td>                True</td>\n",
       "</tr>\n",
       "</table>"
      ],
      "text/latex": [
       "\\begin{center}\n",
       "\\begin{tabular}{lclc}\n",
       "\\toprule\n",
       "\\textbf{Dep. Variable:}      &    PJM\\_Load\\_MW     & \\textbf{  No. Observations:  } &        32896          \\\\\n",
       "\\textbf{Model:}              & ExponentialSmoothing & \\textbf{  SSE                } &   28919865626.504     \\\\\n",
       "\\textbf{Optimized:}          &         True         & \\textbf{  AIC                } &      450293.296       \\\\\n",
       "\\textbf{Trend:}              &       Additive       & \\textbf{  BIC                } &      450528.527       \\\\\n",
       "\\textbf{Seasonal:}           &       Additive       & \\textbf{  AICC               } &      450293.353       \\\\\n",
       "\\textbf{Seasonal Periods:}   &          24          & \\textbf{  Date:              } &   Sat, 11 May 2024    \\\\\n",
       "\\textbf{Box-Cox:}            &        False         & \\textbf{  Time:              } &       21:14:05        \\\\\n",
       "\\textbf{Box-Cox Coeff.:}     &         None         & \\textbf{                     } &                       \\\\\n",
       "\\bottomrule\n",
       "\\end{tabular}\n",
       "\\begin{tabular}{lccc}\n",
       "                             &    \\textbf{coeff}    &    \\textbf{code}     &  \\textbf{optimized}   \\\\\n",
       "\\midrule\n",
       "\\textbf{smoothing\\_level}    &            0.7828759 &                alpha &                 True  \\\\\n",
       "\\textbf{smoothing\\_trend}    &            0.0001676 &                 beta &                 True  \\\\\n",
       "\\textbf{smoothing\\_seasonal} &            0.2171241 &                gamma &                 True  \\\\\n",
       "\\textbf{initial\\_level}      &            32569.861 &                  l.0 &                 True  \\\\\n",
       "\\textbf{initial\\_trend}      &            57.759672 &                  b.0 &                 True  \\\\\n",
       "\\textbf{initial\\_seasons.0}  &           -5261.8176 &                  s.0 &                 True  \\\\\n",
       "\\textbf{initial\\_seasons.1}  &           -6254.7145 &                  s.1 &                 True  \\\\\n",
       "\\textbf{initial\\_seasons.2}  &           -6725.3045 &                  s.2 &                 True  \\\\\n",
       "\\textbf{initial\\_seasons.3}  &           -6713.4611 &                  s.3 &                 True  \\\\\n",
       "\\textbf{initial\\_seasons.4}  &           -6282.9602 &                  s.4 &                 True  \\\\\n",
       "\\textbf{initial\\_seasons.5}  &           -4911.0178 &                  s.5 &                 True  \\\\\n",
       "\\textbf{initial\\_seasons.6}  &           -2639.9006 &                  s.6 &                 True  \\\\\n",
       "\\textbf{initial\\_seasons.7}  &           -468.36502 &                  s.7 &                 True  \\\\\n",
       "\\textbf{initial\\_seasons.8}  &            983.78906 &                  s.8 &                 True  \\\\\n",
       "\\textbf{initial\\_seasons.9}  &            1996.1134 &                  s.9 &                 True  \\\\\n",
       "\\textbf{initial\\_seasons.10} &            2372.2580 &                 s.10 &                 True  \\\\\n",
       "\\textbf{initial\\_seasons.11} &            2211.4868 &                 s.11 &                 True  \\\\\n",
       "\\textbf{initial\\_seasons.12} &            2439.9785 &                 s.12 &                 True  \\\\\n",
       "\\textbf{initial\\_seasons.13} &            2040.8338 &                 s.13 &                 True  \\\\\n",
       "\\textbf{initial\\_seasons.14} &            1646.4130 &                 s.14 &                 True  \\\\\n",
       "\\textbf{initial\\_seasons.15} &            1523.9739 &                 s.15 &                 True  \\\\\n",
       "\\textbf{initial\\_seasons.16} &            2761.3189 &                 s.16 &                 True  \\\\\n",
       "\\textbf{initial\\_seasons.17} &            5382.6860 &                 s.17 &                 True  \\\\\n",
       "\\textbf{initial\\_seasons.18} &            5520.8083 &                 s.18 &                 True  \\\\\n",
       "\\textbf{initial\\_seasons.19} &            4681.2460 &                 s.19 &                 True  \\\\\n",
       "\\textbf{initial\\_seasons.20} &            3899.0901 &                 s.20 &                 True  \\\\\n",
       "\\textbf{initial\\_seasons.21} &            2636.2767 &                 s.21 &                 True  \\\\\n",
       "\\textbf{initial\\_seasons.22} &            675.52449 &                 s.22 &                 True  \\\\\n",
       "\\textbf{initial\\_seasons.23} &           -1514.2995 &                 s.23 &                 True  \\\\\n",
       "\\bottomrule\n",
       "\\end{tabular}\n",
       "%\\caption{ExponentialSmoothing Model Results}\n",
       "\\end{center}"
      ],
      "text/plain": [
       "<class 'statsmodels.iolib.summary.Summary'>\n",
       "\"\"\"\n",
       "                       ExponentialSmoothing Model Results                       \n",
       "================================================================================\n",
       "Dep. Variable:              PJM_Load_MW   No. Observations:                32896\n",
       "Model:             ExponentialSmoothing   SSE                    28919865626.504\n",
       "Optimized:                         True   AIC                         450293.296\n",
       "Trend:                         Additive   BIC                         450528.527\n",
       "Seasonal:                      Additive   AICC                        450293.353\n",
       "Seasonal Periods:                    24   Date:                 Sat, 11 May 2024\n",
       "Box-Cox:                          False   Time:                         21:14:05\n",
       "Box-Cox Coeff.:                    None                                         \n",
       "=================================================================================\n",
       "                          coeff                 code              optimized      \n",
       "---------------------------------------------------------------------------------\n",
       "smoothing_level               0.7828759                alpha                 True\n",
       "smoothing_trend               0.0001676                 beta                 True\n",
       "smoothing_seasonal            0.2171241                gamma                 True\n",
       "initial_level                 32569.861                  l.0                 True\n",
       "initial_trend                 57.759672                  b.0                 True\n",
       "initial_seasons.0            -5261.8176                  s.0                 True\n",
       "initial_seasons.1            -6254.7145                  s.1                 True\n",
       "initial_seasons.2            -6725.3045                  s.2                 True\n",
       "initial_seasons.3            -6713.4611                  s.3                 True\n",
       "initial_seasons.4            -6282.9602                  s.4                 True\n",
       "initial_seasons.5            -4911.0178                  s.5                 True\n",
       "initial_seasons.6            -2639.9006                  s.6                 True\n",
       "initial_seasons.7            -468.36502                  s.7                 True\n",
       "initial_seasons.8             983.78906                  s.8                 True\n",
       "initial_seasons.9             1996.1134                  s.9                 True\n",
       "initial_seasons.10            2372.2580                 s.10                 True\n",
       "initial_seasons.11            2211.4868                 s.11                 True\n",
       "initial_seasons.12            2439.9785                 s.12                 True\n",
       "initial_seasons.13            2040.8338                 s.13                 True\n",
       "initial_seasons.14            1646.4130                 s.14                 True\n",
       "initial_seasons.15            1523.9739                 s.15                 True\n",
       "initial_seasons.16            2761.3189                 s.16                 True\n",
       "initial_seasons.17            5382.6860                 s.17                 True\n",
       "initial_seasons.18            5520.8083                 s.18                 True\n",
       "initial_seasons.19            4681.2460                 s.19                 True\n",
       "initial_seasons.20            3899.0901                 s.20                 True\n",
       "initial_seasons.21            2636.2767                 s.21                 True\n",
       "initial_seasons.22            675.52449                 s.22                 True\n",
       "initial_seasons.23           -1514.2995                 s.23                 True\n",
       "---------------------------------------------------------------------------------\n",
       "\"\"\""
      ]
     },
     "execution_count": 8,
     "metadata": {},
     "output_type": "execute_result"
    }
   ],
   "source": [
    "# Fit the Holt-Winters model\n",
    "# Since data has both trend and seasonality, we use the 'additive' option for both\n",
    "# The seasonal_periods argument will be assumed based on common sense about the data\n",
    "# Here we'll assume daily seasonality as a start, given hourly data, so 24 hours\n",
    "model = ExponentialSmoothing(data['PJM_Load_MW'].dropna(), trend='add', seasonal='add', seasonal_periods=24)\n",
    "fitted_model = model.fit()\n",
    "\n",
    "# Display model summary\n",
    "fitted_model.summary()\n"
   ]
  },
  {
   "cell_type": "markdown",
   "metadata": {},
   "source": [
    "### Evaluation Metrics"
   ]
  },
  {
   "cell_type": "code",
   "execution_count": 12,
   "metadata": {},
   "outputs": [
    {
     "name": "stdout",
     "output_type": "stream",
     "text": [
      "Mean Absolute Error: 618.7360814314022\n",
      "Mean Squared Error: 879130.1564477284\n",
      "Root Mean Squared Error: 937.6194091675621\n",
      "Accuracy: 100.0\n"
     ]
    }
   ],
   "source": [
    "from sklearn.metrics import mean_squared_error, mean_absolute_error\n",
    "\n",
    "# Compute predictions\n",
    "predictions = fitted_model.fittedvalues\n",
    "accuracy_threshold=5\n",
    "\n",
    "# Calculate errors\n",
    "mae = mean_absolute_error(data['PJM_Load_MW'].dropna(), predictions)\n",
    "mse = mean_squared_error(data['PJM_Load_MW'].dropna(), predictions)\n",
    "rmse = mse ** 0.5\n",
    "\n",
    "# Calculate accuracy\n",
    "accurate_predictions = np.sum(np.abs((data['PJM_Load_MW'].dropna() - predictions) / data['PJM_Load_MW'].dropna()) <= accuracy_threshold)\n",
    "total_predictions = len(data['PJM_Load_MW'].dropna())\n",
    "accuracy = (accurate_predictions / total_predictions)\n",
    "print(f'Mean Absolute Error: {mae}')\n",
    "print(f'Mean Squared Error: {mse}')\n",
    "print(f'Root Mean Squared Error: {rmse}')\n",
    "print(f'Accuracy: {accuracy}')"
   ]
  },
  {
   "cell_type": "markdown",
   "metadata": {},
   "source": [
    "### Saving Model"
   ]
  },
  {
   "cell_type": "code",
   "execution_count": 13,
   "metadata": {},
   "outputs": [
    {
     "name": "stdout",
     "output_type": "stream",
     "text": [
      "Model saved successfully at: ETS.pkl\n"
     ]
    }
   ],
   "source": [
    "import pickle\n",
    "\n",
    "# Assume 'sarima_model' is your trained SARIMA model\n",
    "model_filename = 'ETS.pkl'  # specify the path and file name\n",
    "\n",
    "# Save the model to disk\n",
    "with open(model_filename, 'wb') as file:\n",
    "    pickle.dump(fitted_model, file)\n",
    "\n",
    "print(\"Model saved successfully at:\", model_filename)"
   ]
  },
  {
   "cell_type": "markdown",
   "metadata": {},
   "source": [
    "### Forcasting"
   ]
  },
  {
   "cell_type": "code",
   "execution_count": 14,
   "metadata": {},
   "outputs": [
    {
     "name": "stdout",
     "output_type": "stream",
     "text": [
      "32896    27256.717188\n",
      "32897    26991.739753\n",
      "32898    26647.443116\n",
      "32899    26484.981158\n",
      "32900    26802.197268\n",
      "32901    28186.567167\n",
      "32902    31072.556167\n",
      "32903    33253.411798\n",
      "32904    33934.734685\n",
      "32905    34088.419459\n",
      "32906    34099.730326\n",
      "32907    33907.542720\n",
      "dtype: float64\n"
     ]
    }
   ],
   "source": [
    "import pickle\n",
    "\n",
    "# Specify the path where your model is saved\n",
    "model_filename = 'ETS.pkl'  # replace with the actual path to your model file\n",
    "\n",
    "# Load the model from disk\n",
    "with open(model_filename, 'rb') as file:\n",
    "    loaded_model = pickle.load(file)\n",
    "    \n",
    "# Make predictions using the loaded modelfor next 12 steps\n",
    "forecast = loaded_model.forecast(steps=12)\n",
    "print(forecast)"
   ]
  }
 ],
 "metadata": {
  "kernelspec": {
   "display_name": "Python 3",
   "language": "python",
   "name": "python3"
  },
  "language_info": {
   "codemirror_mode": {
    "name": "ipython",
    "version": 3
   },
   "file_extension": ".py",
   "mimetype": "text/x-python",
   "name": "python",
   "nbconvert_exporter": "python",
   "pygments_lexer": "ipython3",
   "version": "3.12.2"
  }
 },
 "nbformat": 4,
 "nbformat_minor": 2
}
